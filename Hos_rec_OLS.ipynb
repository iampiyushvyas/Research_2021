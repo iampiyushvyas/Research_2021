{
 "cells": [
  {
   "cell_type": "markdown",
   "metadata": {},
   "source": [
    "### Hos_Rec_OLS\n",
    "\n",
    "<h1><center>Project </center></h1>\n",
    "<h1><center>by </center></h1>\n",
    "<h1><center> Piyush Vyas </center></h1>\n",
    "\n"
   ]
  },
  {
   "cell_type": "code",
   "execution_count": 77,
   "metadata": {},
   "outputs": [],
   "source": [
    "import warnings\n",
    "warnings.filterwarnings(\"ignore\")\n",
    "\n",
    "import numpy as np\n",
    "from sklearn.model_selection import train_test_split\n",
    "from sklearn import preprocessing\n",
    "import pandas as pd\n",
    "import seaborn as sns\n",
    "\n",
    "#pip install plotly\n",
    "import plotly\n",
    "from plotly import graph_objs\n",
    "# plotly configuration\n",
    "#plotly.offline.init_notebook_mode()\n",
    "import matplotlib.pyplot as plt"
   ]
  },
  {
   "cell_type": "code",
   "execution_count": 78,
   "metadata": {},
   "outputs": [],
   "source": [
    "#load test and train data\n",
    "train = pd.read_csv(\"f_ml1adopt21.csv\")"
   ]
  },
  {
   "cell_type": "markdown",
   "metadata": {},
   "source": [
    "# Step 1 Descriptive Analysis:\n"
   ]
  },
  {
   "cell_type": "markdown",
   "metadata": {},
   "source": [
    "### Train data shape "
   ]
  },
  {
   "cell_type": "code",
   "execution_count": 79,
   "metadata": {},
   "outputs": [
    {
     "data": {
      "text/plain": [
       "(2536, 16)"
      ]
     },
     "execution_count": 79,
     "metadata": {},
     "output_type": "execute_result"
    }
   ],
   "source": [
    "train.shape"
   ]
  },
  {
   "cell_type": "code",
   "execution_count": 80,
   "metadata": {},
   "outputs": [
    {
     "name": "stdout",
     "output_type": "stream",
     "text": [
      "train data first five rows\n"
     ]
    },
    {
     "data": {
      "text/html": [
       "<div>\n",
       "<style scoped>\n",
       "    .dataframe tbody tr th:only-of-type {\n",
       "        vertical-align: middle;\n",
       "    }\n",
       "\n",
       "    .dataframe tbody tr th {\n",
       "        vertical-align: top;\n",
       "    }\n",
       "\n",
       "    .dataframe thead th {\n",
       "        text-align: right;\n",
       "    }\n",
       "</style>\n",
       "<table border=\"1\" class=\"dataframe\">\n",
       "  <thead>\n",
       "    <tr style=\"text-align: right;\">\n",
       "      <th></th>\n",
       "      <th>facility_id</th>\n",
       "      <th>measure_code</th>\n",
       "      <th>measure_desc</th>\n",
       "      <th>recommend</th>\n",
       "      <th>ans_percent</th>\n",
       "      <th>rating</th>\n",
       "      <th>ed_score</th>\n",
       "      <th>sep_score</th>\n",
       "      <th>op_score</th>\n",
       "      <th>op_3b_heart_attack_care</th>\n",
       "      <th>imm3_score</th>\n",
       "      <th>op18_score</th>\n",
       "      <th>H_CLEAN</th>\n",
       "      <th>H_COMP_Nurse</th>\n",
       "      <th>H_COMP_Doc</th>\n",
       "      <th>label</th>\n",
       "    </tr>\n",
       "  </thead>\n",
       "  <tbody>\n",
       "    <tr>\n",
       "      <th>0</th>\n",
       "      <td>271331</td>\n",
       "      <td>ED_2b</td>\n",
       "      <td>Average (median) time patients spent in the em...</td>\n",
       "      <td>H_RECMND_DY</td>\n",
       "      <td>46</td>\n",
       "      <td>3</td>\n",
       "      <td>83</td>\n",
       "      <td>125</td>\n",
       "      <td>22</td>\n",
       "      <td>273</td>\n",
       "      <td>90</td>\n",
       "      <td>80</td>\n",
       "      <td>0</td>\n",
       "      <td>0</td>\n",
       "      <td>0</td>\n",
       "      <td>0</td>\n",
       "    </tr>\n",
       "    <tr>\n",
       "      <th>1</th>\n",
       "      <td>450346</td>\n",
       "      <td>OP_22</td>\n",
       "      <td>Left before being seen</td>\n",
       "      <td>H_RECMND_DN</td>\n",
       "      <td>3</td>\n",
       "      <td>2</td>\n",
       "      <td>72</td>\n",
       "      <td>125</td>\n",
       "      <td>5</td>\n",
       "      <td>220</td>\n",
       "      <td>89</td>\n",
       "      <td>80</td>\n",
       "      <td>1</td>\n",
       "      <td>1</td>\n",
       "      <td>1</td>\n",
       "      <td>1</td>\n",
       "    </tr>\n",
       "    <tr>\n",
       "      <th>2</th>\n",
       "      <td>390073</td>\n",
       "      <td>OP_18b</td>\n",
       "      <td>Average (median) time patients spent in the em...</td>\n",
       "      <td>H_RECMND_DY</td>\n",
       "      <td>55</td>\n",
       "      <td>3</td>\n",
       "      <td>72</td>\n",
       "      <td>125</td>\n",
       "      <td>22</td>\n",
       "      <td>197</td>\n",
       "      <td>99</td>\n",
       "      <td>174</td>\n",
       "      <td>0</td>\n",
       "      <td>0</td>\n",
       "      <td>0</td>\n",
       "      <td>0</td>\n",
       "    </tr>\n",
       "    <tr>\n",
       "      <th>3</th>\n",
       "      <td>191326</td>\n",
       "      <td>SEP_1</td>\n",
       "      <td>Appropriate care for severe sepsis and septic ...</td>\n",
       "      <td>H_RECMND_DY</td>\n",
       "      <td>31</td>\n",
       "      <td>3</td>\n",
       "      <td>72</td>\n",
       "      <td>83</td>\n",
       "      <td>22</td>\n",
       "      <td>196</td>\n",
       "      <td>91</td>\n",
       "      <td>80</td>\n",
       "      <td>1</td>\n",
       "      <td>1</td>\n",
       "      <td>1</td>\n",
       "      <td>0</td>\n",
       "    </tr>\n",
       "    <tr>\n",
       "      <th>4</th>\n",
       "      <td>390256</td>\n",
       "      <td>OP_18b</td>\n",
       "      <td>Average (median) time patients spent in the em...</td>\n",
       "      <td>H_RECMND_DN</td>\n",
       "      <td>3</td>\n",
       "      <td>4</td>\n",
       "      <td>72</td>\n",
       "      <td>125</td>\n",
       "      <td>22</td>\n",
       "      <td>195</td>\n",
       "      <td>91</td>\n",
       "      <td>234</td>\n",
       "      <td>1</td>\n",
       "      <td>1</td>\n",
       "      <td>1</td>\n",
       "      <td>1</td>\n",
       "    </tr>\n",
       "  </tbody>\n",
       "</table>\n",
       "</div>"
      ],
      "text/plain": [
       "   facility_id measure_code  \\\n",
       "0       271331        ED_2b   \n",
       "1       450346        OP_22   \n",
       "2       390073       OP_18b   \n",
       "3       191326        SEP_1   \n",
       "4       390256       OP_18b   \n",
       "\n",
       "                                        measure_desc    recommend  \\\n",
       "0  Average (median) time patients spent in the em...  H_RECMND_DY   \n",
       "1                             Left before being seen  H_RECMND_DN   \n",
       "2  Average (median) time patients spent in the em...  H_RECMND_DY   \n",
       "3  Appropriate care for severe sepsis and septic ...  H_RECMND_DY   \n",
       "4  Average (median) time patients spent in the em...  H_RECMND_DN   \n",
       "\n",
       "   ans_percent  rating  ed_score  sep_score  op_score  \\\n",
       "0           46       3        83        125        22   \n",
       "1            3       2        72        125         5   \n",
       "2           55       3        72        125        22   \n",
       "3           31       3        72         83        22   \n",
       "4            3       4        72        125        22   \n",
       "\n",
       "   op_3b_heart_attack_care  imm3_score  op18_score  H_CLEAN  H_COMP_Nurse  \\\n",
       "0                      273          90          80        0             0   \n",
       "1                      220          89          80        1             1   \n",
       "2                      197          99         174        0             0   \n",
       "3                      196          91          80        1             1   \n",
       "4                      195          91         234        1             1   \n",
       "\n",
       "   H_COMP_Doc  label  \n",
       "0           0      0  \n",
       "1           1      1  \n",
       "2           0      0  \n",
       "3           1      0  \n",
       "4           1      1  "
      ]
     },
     "execution_count": 80,
     "metadata": {},
     "output_type": "execute_result"
    }
   ],
   "source": [
    "\n",
    "# have look at the train and test data (first five rows)\n",
    "print(\"train data first five rows\")\n",
    "train.head(5)\n"
   ]
  },
  {
   "cell_type": "code",
   "execution_count": 81,
   "metadata": {},
   "outputs": [
    {
     "data": {
      "image/png": "[encoded data removed]",
      "text/plain": [
       "<Figure size 1440x720 with 2 Axes>"
      ]
     },
     "metadata": {
      "needs_background": "light"
     },
     "output_type": "display_data"
    }
   ],
   "source": [
    "import matplotlib.pyplot as plt\n",
    "import seaborn as sns\n",
    "sns.heatmap(train.corr(), annot=True)  #.join(train.label)\n",
    "plt.rcParams[\"figure.figsize\"] = (20,10)\n",
    "plt.show()"
   ]
  },
  {
   "cell_type": "code",
   "execution_count": 82,
   "metadata": {},
   "outputs": [
    {
     "name": "stdout",
     "output_type": "stream",
     "text": [
      "<class 'pandas.core.frame.DataFrame'>\n",
      "RangeIndex: 2536 entries, 0 to 2535\n",
      "Data columns (total 16 columns):\n",
      " #   Column                   Non-Null Count  Dtype \n",
      "---  ------                   --------------  ----- \n",
      " 0   facility_id              2536 non-null   int64 \n",
      " 1   measure_code             2536 non-null   object\n",
      " 2   measure_desc             2536 non-null   object\n",
      " 3   recommend                2536 non-null   object\n",
      " 4   ans_percent              2536 non-null   int64 \n",
      " 5   rating                   2536 non-null   int64 \n",
      " 6   ed_score                 2536 non-null   int64 \n",
      " 7   sep_score                2536 non-null   int64 \n",
      " 8   op_score                 2536 non-null   int64 \n",
      " 9   op_3b_heart_attack_care  2536 non-null   int64 \n",
      " 10  imm3_score               2536 non-null   int64 \n",
      " 11  op18_score               2536 non-null   int64 \n",
      " 12  H_CLEAN                  2536 non-null   int64 \n",
      " 13  H_COMP_Nurse             2536 non-null   int64 \n",
      " 14  H_COMP_Doc               2536 non-null   int64 \n",
      " 15  label                    2536 non-null   int64 \n",
      "dtypes: int64(13), object(3)\n",
      "memory usage: 317.1+ KB\n"
     ]
    }
   ],
   "source": [
    "train.info()"
   ]
  },
  {
   "cell_type": "code",
   "execution_count": 83,
   "metadata": {},
   "outputs": [],
   "source": [
    "y = train.iloc[:,15].values "
   ]
  },
  {
   "cell_type": "code",
   "execution_count": 84,
   "metadata": {},
   "outputs": [
    {
     "data": {
      "text/plain": [
       "array([0, 1, 0, ..., 0, 1, 1], dtype=int64)"
      ]
     },
     "execution_count": 84,
     "metadata": {},
     "output_type": "execute_result"
    }
   ],
   "source": [
    "y"
   ]
  },
  {
   "cell_type": "code",
   "execution_count": 85,
   "metadata": {},
   "outputs": [],
   "source": [
    "data=train.drop(columns = ['measure_code','measure_desc','recommend','facility_id' ,'label','ans_percent','rating'] )"
   ]
  },
  {
   "cell_type": "code",
   "execution_count": 86,
   "metadata": {},
   "outputs": [
    {
     "name": "stdout",
     "output_type": "stream",
     "text": [
      "<class 'pandas.core.frame.DataFrame'>\n",
      "RangeIndex: 2536 entries, 0 to 2535\n",
      "Data columns (total 9 columns):\n",
      " #   Column                   Non-Null Count  Dtype\n",
      "---  ------                   --------------  -----\n",
      " 0   ed_score                 2536 non-null   int64\n",
      " 1   sep_score                2536 non-null   int64\n",
      " 2   op_score                 2536 non-null   int64\n",
      " 3   op_3b_heart_attack_care  2536 non-null   int64\n",
      " 4   imm3_score               2536 non-null   int64\n",
      " 5   op18_score               2536 non-null   int64\n",
      " 6   H_CLEAN                  2536 non-null   int64\n",
      " 7   H_COMP_Nurse             2536 non-null   int64\n",
      " 8   H_COMP_Doc               2536 non-null   int64\n",
      "dtypes: int64(9)\n",
      "memory usage: 178.4 KB\n"
     ]
    }
   ],
   "source": [
    "data.info()"
   ]
  },
  {
   "cell_type": "code",
   "execution_count": 87,
   "metadata": {},
   "outputs": [],
   "source": [
    "lab=y"
   ]
  },
  {
   "cell_type": "code",
   "execution_count": 88,
   "metadata": {},
   "outputs": [],
   "source": [
    "#subset of ed= ed throughput, prev= preventive care and ps=patient satisfection\n",
    "ed=data[['ed_score','op_score','op18_score']]\n",
    "prevt=data[['sep_score','imm3_score','op_3b_heart_attack_care']]\n",
    "ps=data[['H_CLEAN','H_COMP_Nurse','H_COMP_Doc']]\n",
    "ed_prevt=data[['ed_score','op_score','op18_score','sep_score','imm3_score','op_3b_heart_attack_care']]\n",
    "ed_prevt_ps=data[['ed_score','op_score','op18_score','sep_score','imm3_score','op_3b_heart_attack_care','H_CLEAN','H_COMP_Nurse','H_COMP_Doc']]"
   ]
  },
  {
   "cell_type": "code",
   "execution_count": 89,
   "metadata": {},
   "outputs": [],
   "source": [
    "ps=ps.dropna()"
   ]
  },
  {
   "cell_type": "markdown",
   "metadata": {},
   "source": [
    "# Step 3 : Modelbuilding "
   ]
  },
  {
   "cell_type": "code",
   "execution_count": 90,
   "metadata": {},
   "outputs": [],
   "source": [
    "#!pip install statsmodels"
   ]
  },
  {
   "cell_type": "markdown",
   "metadata": {},
   "source": [
    "## OLS"
   ]
  },
  {
   "cell_type": "code",
   "execution_count": 91,
   "metadata": {},
   "outputs": [
    {
     "name": "stdout",
     "output_type": "stream",
     "text": [
      "                                 OLS Regression Results                                \n",
      "=======================================================================================\n",
      "Dep. Variable:                      y   R-squared (uncentered):                   0.488\n",
      "Model:                            OLS   Adj. R-squared (uncentered):              0.486\n",
      "Method:                 Least Squares   F-statistic:                              267.4\n",
      "Date:                Mon, 22 Feb 2021   Prob (F-statistic):                        0.00\n",
      "Time:                        01:40:40   Log-Likelihood:                         -1863.2\n",
      "No. Observations:                2536   AIC:                                      3744.\n",
      "Df Residuals:                    2527   BIC:                                      3797.\n",
      "Df Model:                           9                                                  \n",
      "Covariance Type:            nonrobust                                                  \n",
      "===========================================================================================\n",
      "                              coef    std err          t      P>|t|      [0.025      0.975]\n",
      "-------------------------------------------------------------------------------------------\n",
      "ed_score                    0.0002      0.000      0.745      0.456      -0.000       0.001\n",
      "sep_score                   0.0012      0.000      3.460      0.001       0.001       0.002\n",
      "op_score                    0.0017      0.001      2.594      0.010       0.000       0.003\n",
      "op_3b_heart_attack_care -8.241e-06      0.001     -0.015      0.988      -0.001       0.001\n",
      "imm3_score                  0.0032      0.001      5.672      0.000       0.002       0.004\n",
      "op18_score                  0.0004      0.000      1.389      0.165      -0.000       0.001\n",
      "H_CLEAN                     0.0311      0.034      0.912      0.362      -0.036       0.098\n",
      "H_COMP_Nurse               -0.0161      0.038     -0.426      0.670      -0.090       0.058\n",
      "H_COMP_Doc                 -0.0055      0.054     -0.103      0.918      -0.111       0.100\n",
      "==============================================================================\n",
      "Omnibus:                     9370.291   Durbin-Watson:                   2.017\n",
      "Prob(Omnibus):                  0.000   Jarque-Bera (JB):              394.311\n",
      "Skew:                           0.015   Prob(JB):                     2.38e-86\n",
      "Kurtosis:                       1.068   Cond. No.                     1.26e+03\n",
      "==============================================================================\n",
      "\n",
      "Warnings:\n",
      "[1] Standard Errors assume that the covariance matrix of the errors is correctly specified.\n",
      "[2] The condition number is large, 1.26e+03. This might indicate that there are\n",
      "strong multicollinearity or other numerical problems.\n"
     ]
    }
   ],
   "source": [
    "#OLS \n",
    "\n",
    "import statsmodels.api as sm\n",
    "est = sm.OLS(y,data)\n",
    "est2 = est.fit()\n",
    "print(est2.summary())\n"
   ]
  },
  {
   "cell_type": "code",
   "execution_count": 92,
   "metadata": {},
   "outputs": [
    {
     "name": "stdout",
     "output_type": "stream",
     "text": [
      "                                 OLS Regression Results                                \n",
      "=======================================================================================\n",
      "Dep. Variable:                      y   R-squared (uncentered):                   0.466\n",
      "Model:                            OLS   Adj. R-squared (uncentered):              0.466\n",
      "Method:                 Least Squares   F-statistic:                              737.9\n",
      "Date:                Mon, 22 Feb 2021   Prob (F-statistic):                        0.00\n",
      "Time:                        01:40:41   Log-Likelihood:                         -1915.1\n",
      "No. Observations:                2536   AIC:                                      3836.\n",
      "Df Residuals:                    2533   BIC:                                      3854.\n",
      "Df Model:                           3                                                  \n",
      "Covariance Type:            nonrobust                                                  \n",
      "==============================================================================\n",
      "                 coef    std err          t      P>|t|      [0.025      0.975]\n",
      "------------------------------------------------------------------------------\n",
      "ed_score       0.0019      0.000      7.962      0.000       0.001       0.002\n",
      "op_score       0.0037      0.001      5.995      0.000       0.003       0.005\n",
      "op18_score     0.0025      0.000     12.278      0.000       0.002       0.003\n",
      "==============================================================================\n",
      "Omnibus:                    10545.840   Durbin-Watson:                   2.020\n",
      "Prob(Omnibus):                  0.000   Jarque-Bera (JB):              333.920\n",
      "Skew:                          -0.007   Prob(JB):                     3.09e-73\n",
      "Kurtosis:                       1.222   Cond. No.                         7.96\n",
      "==============================================================================\n",
      "\n",
      "Warnings:\n",
      "[1] Standard Errors assume that the covariance matrix of the errors is correctly specified.\n"
     ]
    }
   ],
   "source": [
    "# ED throughput vs Hos_rec labels\n",
    "#ed_score, op_score, op18_score \n",
    "est = sm.OLS(y,ed)\n",
    "est2 = est.fit()\n",
    "print(est2.summary())"
   ]
  },
  {
   "cell_type": "code",
   "execution_count": 93,
   "metadata": {},
   "outputs": [
    {
     "name": "stdout",
     "output_type": "stream",
     "text": [
      "                                 OLS Regression Results                                \n",
      "=======================================================================================\n",
      "Dep. Variable:                      y   R-squared (uncentered):                   0.486\n",
      "Model:                            OLS   Adj. R-squared (uncentered):              0.485\n",
      "Method:                 Least Squares   F-statistic:                              797.1\n",
      "Date:                Mon, 22 Feb 2021   Prob (F-statistic):                        0.00\n",
      "Time:                        01:40:41   Log-Likelihood:                         -1868.6\n",
      "No. Observations:                2536   AIC:                                      3743.\n",
      "Df Residuals:                    2533   BIC:                                      3761.\n",
      "Df Model:                           3                                                  \n",
      "Covariance Type:            nonrobust                                                  \n",
      "===========================================================================================\n",
      "                              coef    std err          t      P>|t|      [0.025      0.975]\n",
      "-------------------------------------------------------------------------------------------\n",
      "sep_score                   0.0015      0.000      4.940      0.000       0.001       0.002\n",
      "imm3_score                  0.0038      0.001      7.263      0.000       0.003       0.005\n",
      "op_3b_heart_attack_care     0.0002      0.001      0.345      0.730      -0.001       0.001\n",
      "==============================================================================\n",
      "Omnibus:                     9384.009   Durbin-Watson:                   2.014\n",
      "Prob(Omnibus):                  0.000   Jarque-Bera (JB):              393.416\n",
      "Skew:                           0.017   Prob(JB):                     3.72e-86\n",
      "Kurtosis:                       1.071   Cond. No.                         10.1\n",
      "==============================================================================\n",
      "\n",
      "Warnings:\n",
      "[1] Standard Errors assume that the covariance matrix of the errors is correctly specified.\n"
     ]
    }
   ],
   "source": [
    "# preventive measures vs Hos_rec labels\n",
    "#ed_score, op_score, op18_score \n",
    "est = sm.OLS(y,prevt)\n",
    "est2 = est.fit()\n",
    "print(est2.summary())"
   ]
  },
  {
   "cell_type": "code",
   "execution_count": 94,
   "metadata": {},
   "outputs": [
    {
     "name": "stdout",
     "output_type": "stream",
     "text": [
      "                                 OLS Regression Results                                \n",
      "=======================================================================================\n",
      "Dep. Variable:                      y   R-squared (uncentered):                   0.278\n",
      "Model:                            OLS   Adj. R-squared (uncentered):              0.277\n",
      "Method:                 Least Squares   F-statistic:                              324.8\n",
      "Date:                Mon, 22 Feb 2021   Prob (F-statistic):                   1.93e-178\n",
      "Time:                        01:40:41   Log-Likelihood:                         -2298.7\n",
      "No. Observations:                2536   AIC:                                      4603.\n",
      "Df Residuals:                    2533   BIC:                                      4621.\n",
      "Df Model:                           3                                                  \n",
      "Covariance Type:            nonrobust                                                  \n",
      "================================================================================\n",
      "                   coef    std err          t      P>|t|      [0.025      0.975]\n",
      "--------------------------------------------------------------------------------\n",
      "H_CLEAN          0.0270      0.040      0.669      0.504      -0.052       0.106\n",
      "H_COMP_Nurse    -0.0205      0.045     -0.456      0.648      -0.108       0.067\n",
      "H_COMP_Doc       0.4864      0.061      7.996      0.000       0.367       0.606\n",
      "==============================================================================\n",
      "Omnibus:                    31025.305   Durbin-Watson:                   1.723\n",
      "Prob(Omnibus):                  0.000   Jarque-Bera (JB):              203.661\n",
      "Skew:                           0.035   Prob(JB):                     5.96e-45\n",
      "Kurtosis:                       1.613   Cond. No.                         8.09\n",
      "==============================================================================\n",
      "\n",
      "Warnings:\n",
      "[1] Standard Errors assume that the covariance matrix of the errors is correctly specified.\n"
     ]
    }
   ],
   "source": [
    "# patient satisfection vs Hos_rec labels\n",
    "est = sm.OLS(y,ps)\n",
    "est2 = est.fit()\n",
    "print(est2.summary())"
   ]
  },
  {
   "cell_type": "code",
   "execution_count": 95,
   "metadata": {},
   "outputs": [
    {
     "name": "stdout",
     "output_type": "stream",
     "text": [
      "                                 OLS Regression Results                                \n",
      "=======================================================================================\n",
      "Dep. Variable:                      y   R-squared (uncentered):                   0.244\n",
      "Model:                            OLS   Adj. R-squared (uncentered):              0.243\n",
      "Method:                 Least Squares   F-statistic:                              816.6\n",
      "Date:                Mon, 22 Feb 2021   Prob (F-statistic):                   6.27e-156\n",
      "Time:                        01:40:42   Log-Likelihood:                         -2357.4\n",
      "No. Observations:                2536   AIC:                                      4717.\n",
      "Df Residuals:                    2535   BIC:                                      4723.\n",
      "Df Model:                           1                                                  \n",
      "Covariance Type:            nonrobust                                                  \n",
      "================================================================================\n",
      "                   coef    std err          t      P>|t|      [0.025      0.975]\n",
      "--------------------------------------------------------------------------------\n",
      "H_COMP_Nurse     0.4411      0.015     28.576      0.000       0.411       0.471\n",
      "==============================================================================\n",
      "Omnibus:                      291.838   Durbin-Watson:                   1.678\n",
      "Prob(Omnibus):                  0.000   Jarque-Bera (JB):             1411.255\n",
      "Skew:                          -0.446   Prob(JB):                    3.55e-307\n",
      "Kurtosis:                       6.544   Cond. No.                         1.00\n",
      "==============================================================================\n",
      "\n",
      "Warnings:\n",
      "[1] Standard Errors assume that the covariance matrix of the errors is correctly specified.\n",
      "                                 OLS Regression Results                                \n",
      "=======================================================================================\n",
      "Dep. Variable:                      y   R-squared (uncentered):                   0.278\n",
      "Model:                            OLS   Adj. R-squared (uncentered):              0.277\n",
      "Method:                 Least Squares   F-statistic:                              974.4\n",
      "Date:                Mon, 22 Feb 2021   Prob (F-statistic):                   2.75e-181\n",
      "Time:                        01:40:42   Log-Likelihood:                         -2299.1\n",
      "No. Observations:                2536   AIC:                                      4600.\n",
      "Df Residuals:                    2535   BIC:                                      4606.\n",
      "Df Model:                           1                                                  \n",
      "Covariance Type:            nonrobust                                                  \n",
      "==============================================================================\n",
      "                 coef    std err          t      P>|t|      [0.025      0.975]\n",
      "------------------------------------------------------------------------------\n",
      "H_COMP_Doc     0.4920      0.016     31.215      0.000       0.461       0.523\n",
      "==============================================================================\n",
      "Omnibus:                    30753.507   Durbin-Watson:                   1.725\n",
      "Prob(Omnibus):                  0.000   Jarque-Bera (JB):              203.854\n",
      "Skew:                           0.034   Prob(JB):                     5.42e-45\n",
      "Kurtosis:                       1.613   Cond. No.                         1.00\n",
      "==============================================================================\n",
      "\n",
      "Warnings:\n",
      "[1] Standard Errors assume that the covariance matrix of the errors is correctly specified.\n",
      "                                 OLS Regression Results                                \n",
      "=======================================================================================\n",
      "Dep. Variable:                      y   R-squared (uncentered):                   0.242\n",
      "Model:                            OLS   Adj. R-squared (uncentered):              0.242\n",
      "Method:                 Least Squares   F-statistic:                              809.6\n",
      "Date:                Mon, 22 Feb 2021   Prob (F-statistic):                   8.86e-155\n",
      "Time:                        01:40:42   Log-Likelihood:                         -2360.1\n",
      "No. Observations:                2536   AIC:                                      4722.\n",
      "Df Residuals:                    2535   BIC:                                      4728.\n",
      "Df Model:                           1                                                  \n",
      "Covariance Type:            nonrobust                                                  \n",
      "==============================================================================\n",
      "                 coef    std err          t      P>|t|      [0.025      0.975]\n",
      "------------------------------------------------------------------------------\n",
      "H_CLEAN        0.4459      0.016     28.453      0.000       0.415       0.477\n",
      "==============================================================================\n",
      "Omnibus:                       84.886   Durbin-Watson:                   1.632\n",
      "Prob(Omnibus):                  0.000   Jarque-Bera (JB):              153.655\n",
      "Skew:                          -0.261   Prob(JB):                     4.31e-34\n",
      "Kurtosis:                       4.087   Cond. No.                         1.00\n",
      "==============================================================================\n",
      "\n",
      "Warnings:\n",
      "[1] Standard Errors assume that the covariance matrix of the errors is correctly specified.\n"
     ]
    }
   ],
   "source": [
    "# individual variables of patient satisfection vs Hos_rec labels\n",
    "a = sm.OLS(y,ps[[\"H_COMP_Nurse\"]])#OLS(y,ps)\n",
    "\n",
    "results = a.fit()\n",
    "\n",
    "print(results.summary())\n",
    "\n",
    "a = sm.OLS(y,ps[[\"H_COMP_Doc\"]])#OLS(y,ps)\n",
    "\n",
    "results = a.fit()\n",
    "\n",
    "print(results.summary())\n",
    "a = sm.OLS(y,ps[[\"H_CLEAN\"]])#OLS(y,ps)\n",
    "\n",
    "results = a.fit()\n",
    "\n",
    "print(results.summary())"
   ]
  },
  {
   "cell_type": "markdown",
   "metadata": {},
   "source": [
    "## GLM"
   ]
  },
  {
   "cell_type": "code",
   "execution_count": 96,
   "metadata": {},
   "outputs": [
    {
     "name": "stdout",
     "output_type": "stream",
     "text": [
      "                 Generalized Linear Model Regression Results                  \n",
      "==============================================================================\n",
      "Dep. Variable:                      y   No. Observations:                 2536\n",
      "Model:                            GLM   Df Residuals:                     2527\n",
      "Model Family:                   Gamma   Df Model:                            8\n",
      "Link Function:          inverse_power   Scale:                          1.0557\n",
      "Method:                          IRLS   Log-Likelihood:                    inf\n",
      "Date:                Mon, 22 Feb 2021   Deviance:                       90245.\n",
      "Time:                        01:40:42   Pearson chi2:                 2.67e+03\n",
      "No. Iterations:                     8                                         \n",
      "Covariance Type:            nonrobust                                         \n",
      "===========================================================================================\n",
      "                              coef    std err          z      P>|z|      [0.025      0.975]\n",
      "-------------------------------------------------------------------------------------------\n",
      "ed_score                    0.0031      0.001      2.304      0.021       0.000       0.006\n",
      "sep_score                   0.0028      0.001      2.106      0.035       0.000       0.005\n",
      "op_score                   -0.0019      0.002     -0.772      0.440      -0.007       0.003\n",
      "op_3b_heart_attack_care     0.0098      0.002      4.168      0.000       0.005       0.014\n",
      "imm3_score                  0.0086      0.002      4.011      0.000       0.004       0.013\n",
      "op18_score                  0.0015      0.001      1.171      0.242      -0.001       0.004\n",
      "H_CLEAN                    -0.0629      0.093     -0.676      0.499      -0.245       0.119\n",
      "H_COMP_Nurse                0.1561      0.238      0.655      0.512      -0.311       0.623\n",
      "H_COMP_Doc                  0.0022      0.263      0.008      0.993      -0.513       0.517\n",
      "===========================================================================================\n"
     ]
    }
   ],
   "source": [
    "# GLM\n",
    "import statsmodels.api as sm\n",
    "\n",
    "# Instantiate a gamma family model with the default link function.\n",
    "gamma_model = sm.GLM(y,data, family=sm.families.Gamma())\n",
    "\n",
    "gamma_results = gamma_model.fit()\n",
    "\n",
    "print(gamma_results.summary())"
   ]
  },
  {
   "cell_type": "code",
   "execution_count": 97,
   "metadata": {},
   "outputs": [
    {
     "name": "stdout",
     "output_type": "stream",
     "text": [
      "                 Generalized Linear Model Regression Results                  \n",
      "==============================================================================\n",
      "Dep. Variable:                      y   No. Observations:                 2536\n",
      "Model:                            GLM   Df Residuals:                     2533\n",
      "Model Family:                   Gamma   Df Model:                            2\n",
      "Link Function:          inverse_power   Scale:                          1.1557\n",
      "Method:                          IRLS   Log-Likelihood:                    inf\n",
      "Date:                Mon, 22 Feb 2021   Deviance:                       90293.\n",
      "Time:                        01:40:43   Pearson chi2:                 2.93e+03\n",
      "No. Iterations:                     8                                         \n",
      "Covariance Type:            nonrobust                                         \n",
      "==============================================================================\n",
      "                 coef    std err          z      P>|z|      [0.025      0.975]\n",
      "------------------------------------------------------------------------------\n",
      "ed_score       0.0110      0.001      8.178      0.000       0.008       0.014\n",
      "op_score       0.0046      0.003      1.759      0.079      -0.001       0.010\n",
      "op18_score     0.0111      0.001      9.519      0.000       0.009       0.013\n",
      "==============================================================================\n"
     ]
    }
   ],
   "source": [
    "# ED throughput vs Hos_rec labels\n",
    "#ed_score, op_score, op18_score \n",
    "\n",
    "gamma_model = sm.GLM(y,ed, family=sm.families.Gamma())\n",
    "\n",
    "gamma_results = gamma_model.fit()\n",
    "\n",
    "print(gamma_results.summary())\n",
    " \n"
   ]
  },
  {
   "cell_type": "code",
   "execution_count": 98,
   "metadata": {},
   "outputs": [
    {
     "name": "stdout",
     "output_type": "stream",
     "text": [
      "                 Generalized Linear Model Regression Results                  \n",
      "==============================================================================\n",
      "Dep. Variable:                      y   No. Observations:                 2536\n",
      "Model:                            GLM   Df Residuals:                     2533\n",
      "Model Family:                   Gamma   Df Model:                            2\n",
      "Link Function:          inverse_power   Scale:                          1.0542\n",
      "Method:                          IRLS   Log-Likelihood:                    inf\n",
      "Date:                Mon, 22 Feb 2021   Deviance:                       90247.\n",
      "Time:                        01:40:43   Pearson chi2:                 2.67e+03\n",
      "No. Iterations:                     8                                         \n",
      "Covariance Type:            nonrobust                                         \n",
      "===========================================================================================\n",
      "                              coef    std err          z      P>|z|      [0.025      0.975]\n",
      "-------------------------------------------------------------------------------------------\n",
      "sep_score                   0.0043      0.001      3.794      0.000       0.002       0.007\n",
      "imm3_score                  0.0105      0.002      5.399      0.000       0.007       0.014\n",
      "op_3b_heart_attack_care     0.0110      0.002      4.822      0.000       0.007       0.016\n",
      "===========================================================================================\n"
     ]
    }
   ],
   "source": [
    "# preventive measures vs Hos_rec labels\n",
    "#ed_score, op_score, op18_score \n",
    "\n",
    "gamma_model = sm.GLM(y, prevt, family=sm.families.Gamma())\n",
    "\n",
    "gamma_results = gamma_model.fit()\n",
    "\n",
    "print(gamma_results.summary())"
   ]
  },
  {
   "cell_type": "code",
   "execution_count": 99,
   "metadata": {},
   "outputs": [
    {
     "name": "stdout",
     "output_type": "stream",
     "text": [
      "                 Generalized Linear Model Regression Results                  \n",
      "==============================================================================\n",
      "Dep. Variable:                      y   No. Observations:                 2536\n",
      "Model:                            GLM   Df Residuals:                     2533\n",
      "Model Family:                Gaussian   Df Model:                            2\n",
      "Link Function:               identity   Scale:                         0.35923\n",
      "Method:                          IRLS   Log-Likelihood:                -2298.7\n",
      "Date:                Mon, 22 Feb 2021   Deviance:                       909.92\n",
      "Time:                        01:40:43   Pearson chi2:                     910.\n",
      "No. Iterations:                     3                                         \n",
      "Covariance Type:            nonrobust                                         \n",
      "================================================================================\n",
      "                   coef    std err          z      P>|z|      [0.025      0.975]\n",
      "--------------------------------------------------------------------------------\n",
      "H_CLEAN          0.0270      0.040      0.669      0.504      -0.052       0.106\n",
      "H_COMP_Nurse    -0.0205      0.045     -0.456      0.648      -0.108       0.067\n",
      "H_COMP_Doc       0.4864      0.061      7.996      0.000       0.367       0.606\n",
      "================================================================================\n"
     ]
    }
   ],
   "source": [
    "gamma_model = sm.GLM(y, ps)\n",
    "\n",
    "gamma_results = gamma_model.fit()\n",
    "\n",
    "print(gamma_results.summary())"
   ]
  },
  {
   "cell_type": "code",
   "execution_count": 100,
   "metadata": {},
   "outputs": [
    {
     "name": "stdout",
     "output_type": "stream",
     "text": [
      "                 Generalized Linear Model Regression Results                  \n",
      "==============================================================================\n",
      "Dep. Variable:                      y   No. Observations:                 2536\n",
      "Model:                            GLM   Df Residuals:                     2535\n",
      "Model Family:                Gaussian   Df Model:                            0\n",
      "Link Function:               identity   Scale:                         0.37594\n",
      "Method:                          IRLS   Log-Likelihood:                -2357.4\n",
      "Date:                Mon, 22 Feb 2021   Deviance:                       953.02\n",
      "Time:                        01:40:43   Pearson chi2:                     953.\n",
      "No. Iterations:                     3                                         \n",
      "Covariance Type:            nonrobust                                         \n",
      "================================================================================\n",
      "                   coef    std err          z      P>|z|      [0.025      0.975]\n",
      "--------------------------------------------------------------------------------\n",
      "H_COMP_Nurse     0.4411      0.015     28.576      0.000       0.411       0.471\n",
      "================================================================================\n",
      "                 Generalized Linear Model Regression Results                  \n",
      "==============================================================================\n",
      "Dep. Variable:                      y   No. Observations:                 2536\n",
      "Model:                            GLM   Df Residuals:                     2535\n",
      "Model Family:                Gaussian   Df Model:                            0\n",
      "Link Function:               identity   Scale:                         0.35904\n",
      "Method:                          IRLS   Log-Likelihood:                -2299.1\n",
      "Date:                Mon, 22 Feb 2021   Deviance:                       910.16\n",
      "Time:                        01:40:43   Pearson chi2:                     910.\n",
      "No. Iterations:                     3                                         \n",
      "Covariance Type:            nonrobust                                         \n",
      "==============================================================================\n",
      "                 coef    std err          z      P>|z|      [0.025      0.975]\n",
      "------------------------------------------------------------------------------\n",
      "H_COMP_Doc     0.4920      0.016     31.215      0.000       0.461       0.523\n",
      "==============================================================================\n",
      "                 Generalized Linear Model Regression Results                  \n",
      "==============================================================================\n",
      "Dep. Variable:                      y   No. Observations:                 2536\n",
      "Model:                            GLM   Df Residuals:                     2535\n",
      "Model Family:                Gaussian   Df Model:                            0\n",
      "Link Function:               identity   Scale:                         0.37673\n",
      "Method:                          IRLS   Log-Likelihood:                -2360.1\n",
      "Date:                Mon, 22 Feb 2021   Deviance:                       955.01\n",
      "Time:                        01:40:43   Pearson chi2:                     955.\n",
      "No. Iterations:                     3                                         \n",
      "Covariance Type:            nonrobust                                         \n",
      "==============================================================================\n",
      "                 coef    std err          z      P>|z|      [0.025      0.975]\n",
      "------------------------------------------------------------------------------\n",
      "H_CLEAN        0.4459      0.016     28.453      0.000       0.415       0.477\n",
      "==============================================================================\n"
     ]
    }
   ],
   "source": [
    "# individual variables of patient satisfection vs Hos_rec labels\n",
    "gamma_model = sm.GLM(y,ps[[\"H_COMP_Nurse\"]])#OLS(y,ps)\n",
    "\n",
    "gamma_results = gamma_model.fit()\n",
    "\n",
    "print(gamma_results.summary())\n",
    "\n",
    "gamma_model = sm.GLM(y,ps[[\"H_COMP_Doc\"]])#OLS(y,ps)\n",
    "\n",
    "gamma_results = gamma_model.fit()\n",
    "\n",
    "print(gamma_results.summary())\n",
    "gamma_model = sm.GLM(y,ps[[\"H_CLEAN\"]])#OLS(y,ps)\n",
    "\n",
    "gamma_results = gamma_model.fit()\n",
    "\n",
    "print(gamma_results.summary())"
   ]
  },
  {
   "cell_type": "code",
   "execution_count": null,
   "metadata": {},
   "outputs": [],
   "source": []
  },
  {
   "cell_type": "code",
   "execution_count": null,
   "metadata": {},
   "outputs": [],
   "source": []
  }
 ],
 "metadata": {
  "environment": {
   "name": "tf2-2-3-gpu.2-3.m56",
   "type": "gcloud",
   "uri": "gcr.io/deeplearning-platform-release/tf2-2-3-gpu.2-3:m56"
  },
  "kernelspec": {
   "display_name": "Python 3",
   "language": "python",
   "name": "python3"
  },
  "language_info": {
   "codemirror_mode": {
    "name": "ipython",
    "version": 3
   },
   "file_extension": ".py",
   "mimetype": "text/x-python",
   "name": "python",
   "nbconvert_exporter": "python",
   "pygments_lexer": "ipython3",
   "version": "3.7.6"
  }
 },
 "nbformat": 4,
 "nbformat_minor": 4
}
